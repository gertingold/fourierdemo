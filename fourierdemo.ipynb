{
 "cells": [
  {
   "cell_type": "markdown",
   "metadata": {},
   "source": [
    "# Demonstration von Fourierreihen"
   ]
  },
  {
   "cell_type": "markdown",
   "metadata": {},
   "source": [
    "Die folgenden Fourierreihen für $2\\pi$-periodische Funktionen sind implementiert:"
   ]
  },
  {
   "cell_type": "markdown",
   "metadata": {},
   "source": [
    "### Delta\n",
    "\n",
    "$${:}\\delta(x){:} = \\frac{1}{2}+\\sum_{n=1}^\\infty \\cos(nx)$$\n",
    "\n",
    "Hierbei handelt es sich um eine unnormierte periodische Deltafunktion, die überall verschwindet außer bei $x = 2\\pi m$ mit $m = 0, \\pm1, \\pm2, \\ldots$ Wird die Reihe bei $n=n_\\mathrm{max}$ abgeschnitten, so nimmt sie dort den Wert $n_\\mathrm{max}+\\frac{1}{2}$ an."
   ]
  },
  {
   "cell_type": "markdown",
   "metadata": {},
   "source": [
    "### Rechteck\n",
    "\n",
    "$$\\text{sign}(x) = \\frac{4}{\\pi}\\sum_{n=0}^\\infty\\frac{\\sin\\big((2n+1)x\\big)}{2n+1}\\qquad -\\pi < x < \\pi$$"
   ]
  },
  {
   "cell_type": "markdown",
   "metadata": {},
   "source": [
    "### Sägezahn\n",
    "\n",
    "$$x = \\pi-2\\sum_{n=1}^\\infty\\frac{\\sin(nx)}{n}\\qquad 0 < x < 2\\pi$$"
   ]
  },
  {
   "cell_type": "markdown",
   "metadata": {},
   "source": [
    "### Dreieck\n",
    "\n",
    "$$\\vert x\\vert = \\frac{\\pi}{2}-\\frac{4}{\\pi}\\sum_{n=0}^\\infty\\frac{\\cos\\big((2n+1)x\\big)}{(2n+1)^2}\\qquad -\\pi < x < \\pi$$"
   ]
  },
  {
   "cell_type": "markdown",
   "metadata": {},
   "source": [
    "### Parabel\n",
    "$$x^2 = \\frac{\\pi^2}{3}+4\\sum_{n=1}^\\infty(-1)^n\\frac{\\cos(nx)}{n^2}\\qquad -\\pi < x < \\pi$$"
   ]
  },
  {
   "cell_type": "code",
   "execution_count": null,
   "metadata": {},
   "outputs": [],
   "source": [
    "import ipywidgets as widgets\n",
    "from ipywidgets import interact\n",
    "import numpy as np\n",
    "import matplotlib.pyplot as plt\n",
    "%matplotlib inline\n",
    "\n",
    "NMAX = 100\n",
    "NPTS = 501\n",
    "\n",
    "@interact(harmonische=widgets.IntSlider(min=1, max=NMAX, \n",
    "                                        description='maximale Harmonische',\n",
    "                                        padding='2ex',\n",
    "                                        style={\"description_width\": \"initial\"}),\n",
    "          funktion=widgets.RadioButtons(options=(\"Delta\", \"Rechteck\", \"Sägezahn\", \"Dreieck\", \"Parabel\"),\n",
    "                                        description='Funktion')\n",
    "          )\n",
    "def f(harmonische, funktion):\n",
    "    params = {\"Delta\": {\"func\": np.cos, \"power\": 0, \"zero\": 0.5},\n",
    "              \"Rechteck\": {\"stepsize\": 2, \"func\": np.sin, \"power\": 1, \"factor\": 4/np.pi},\n",
    "              \"Sägezahn\": {\"func\": np.sin, \"power\": 1, \"factor\": -2, \"zero\": np.pi},\n",
    "              \"Dreieck\": {\"stepsize\": 2, \"func\":  np.cos, \"power\": 2, \"factor\": -4/np.pi, \"zero\": np.pi/2},\n",
    "              \"Parabel\": {\"sign\": -1, \"func\": np.cos, \"power\": 2, \"factor\": 4, \"zero\": np.pi**2/3}\n",
    "              }\n",
    "    p = params[funktion]\n",
    "    offset = p.setdefault(\"zero\", 0)\n",
    "    factor = p.setdefault(\"factor\", 1)\n",
    "    sign = p.setdefault(\"sign\", 1)\n",
    "    stepsize = p.setdefault(\"stepsize\", 1)\n",
    "    xvals, nvals = np.ogrid[-2*np.pi:2*np.pi:NPTS*1j, 1:harmonische+1:stepsize]\n",
    "    yvals = offset + factor*np.sum(sign**nvals*p[\"func\"](nvals*xvals)/nvals**p[\"power\"], axis=1)\n",
    "    plt.plot(xvals, yvals)"
   ]
  }
 ],
 "metadata": {
  "kernelspec": {
   "display_name": "Python 3",
   "language": "python",
   "name": "python3"
  },
  "language_info": {
   "codemirror_mode": {
    "name": "ipython",
    "version": 3
   },
   "file_extension": ".py",
   "mimetype": "text/x-python",
   "name": "python",
   "nbconvert_exporter": "python",
   "pygments_lexer": "ipython3",
   "version": "3.8.3"
  }
 },
 "nbformat": 4,
 "nbformat_minor": 4
}
